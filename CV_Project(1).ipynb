{
  "nbformat": 4,
  "nbformat_minor": 0,
  "metadata": {
    "colab": {
      "provenance": [],
      "toc_visible": true
    },
    "kernelspec": {
      "name": "python3",
      "display_name": "Python 3"
    },
    "language_info": {
      "name": "python"
    }
  },
  "cells": [
    {
      "cell_type": "code",
      "execution_count": null,
      "metadata": {
        "id": "p_l1nHb7Zv3b",
        "colab": {
          "base_uri": "https://localhost:8080/",
          "height": 231
        },
        "outputId": "7cf41d90-8a7e-4fda-93b1-2dc93c1328d4"
      },
      "outputs": [
        {
          "output_type": "error",
          "ename": "ModuleNotFoundError",
          "evalue": "No module named 'albumentations'",
          "traceback": [
            "\u001b[1;31m---------------------------------------------------------------------------\u001b[0m",
            "\u001b[1;31mModuleNotFoundError\u001b[0m                       Traceback (most recent call last)",
            "Cell \u001b[1;32mIn[1], line 5\u001b[0m\n\u001b[0;32m      3\u001b[0m \u001b[38;5;28;01mimport\u001b[39;00m \u001b[38;5;21;01mpandas\u001b[39;00m \u001b[38;5;28;01mas\u001b[39;00m \u001b[38;5;21;01mpd\u001b[39;00m\n\u001b[0;32m      4\u001b[0m \u001b[38;5;28;01mimport\u001b[39;00m \u001b[38;5;21;01mnumpy\u001b[39;00m \u001b[38;5;28;01mas\u001b[39;00m \u001b[38;5;21;01mnp\u001b[39;00m\n\u001b[1;32m----> 5\u001b[0m \u001b[38;5;28;01mimport\u001b[39;00m \u001b[38;5;21;01malbumentations\u001b[39;00m \u001b[38;5;28;01mas\u001b[39;00m \u001b[38;5;21;01mA\u001b[39;00m\n\u001b[0;32m      6\u001b[0m \u001b[38;5;28;01mfrom\u001b[39;00m \u001b[38;5;21;01mtensorflow\u001b[39;00m\u001b[38;5;21;01m.\u001b[39;00m\u001b[38;5;21;01mkeras\u001b[39;00m\u001b[38;5;21;01m.\u001b[39;00m\u001b[38;5;21;01mpreprocessing\u001b[39;00m\u001b[38;5;21;01m.\u001b[39;00m\u001b[38;5;21;01mimage\u001b[39;00m \u001b[38;5;28;01mimport\u001b[39;00m load_img, img_to_array\n\u001b[0;32m      7\u001b[0m \u001b[38;5;28;01mfrom\u001b[39;00m \u001b[38;5;21;01mtensorflow\u001b[39;00m\u001b[38;5;21;01m.\u001b[39;00m\u001b[38;5;21;01mkeras\u001b[39;00m\u001b[38;5;21;01m.\u001b[39;00m\u001b[38;5;21;01mapplications\u001b[39;00m \u001b[38;5;28;01mimport\u001b[39;00m VGG16\n",
            "\u001b[1;31mModuleNotFoundError\u001b[0m: No module named 'albumentations'"
          ]
        }
      ],
      "source": [
        "import zipfile\n",
        "import os\n",
        "import pandas as pd\n",
        "import numpy as np\n",
        "import albumentations as A\n",
        "from tensorflow.keras.preprocessing.image import load_img, img_to_array\n",
        "from tensorflow.keras.applications import VGG16\n",
        "from tensorflow import keras\n",
        "from tensorflow.keras import layers\n",
        "from sklearn.model_selection import train_test_split"
      ]
    },
    {
      "cell_type": "code",
      "source": [
        "from google.colab import drive\n",
        "drive.mount('/content/drive')"
      ],
      "metadata": {
        "colab": {
          "base_uri": "https://localhost:8080/"
        },
        "id": "LBrwg8PBcxPA",
        "outputId": "49f69110-22a5-4024-d2fc-c006e0a4e164"
      },
      "execution_count": null,
      "outputs": [
        {
          "output_type": "stream",
          "name": "stdout",
          "text": [
            "Mounted at /content/drive\n"
          ]
        }
      ]
    },
    {
      "cell_type": "code",
      "source": [
        "!cp /content/drive/My\\ Drive/COMP90086_2024_Project_train\\(1\\).zip /content/train.zip\n",
        "!cp /content/drive/My\\ Drive/COMP90086_2024_Project_test.zip /content/test.zip"
      ],
      "metadata": {
        "id": "EXxJEyNMcoom",
        "colab": {
          "base_uri": "https://localhost:8080/"
        },
        "outputId": "70317507-8ae1-4331-ca8f-56409fba6e87"
      },
      "execution_count": null,
      "outputs": [
        {
          "output_type": "stream",
          "name": "stdout",
          "text": [
            "cp: cannot stat '/content/drive/My Drive/COMP90086_2024_Project_train(1).zip': No such file or directory\n",
            "cp: cannot stat '/content/drive/My Drive/COMP90086_2024_Project_test.zip': No such file or directory\n"
          ]
        }
      ]
    },
    {
      "cell_type": "code",
      "source": [
        "!unzip /content/train.zip -d /content/\n",
        "!unzip /content/test.zip -d /content/"
      ],
      "metadata": {
        "id": "TvGJ4JADgk9j",
        "colab": {
          "base_uri": "https://localhost:8080/"
        },
        "collapsed": true,
        "outputId": "96900fc5-388d-4b25-efd2-44fdc893935a"
      },
      "execution_count": null,
      "outputs": [
        {
          "output_type": "stream",
          "name": "stdout",
          "text": [
            "unzip:  cannot find or open /content/train.zip, /content/train.zip.zip or /content/train.zip.ZIP.\n",
            "unzip:  cannot find or open /content/test.zip, /content/test.zip.zip or /content/test.zip.ZIP.\n"
          ]
        }
      ]
    },
    {
      "cell_type": "code",
      "source": [
        "augmentation = A.Compose([\n",
        "    A.HorizontalFlip(p=0.5),\n",
        "    A.Rotate(limit=30, p=0.5),\n",
        "    A.Normalize(mean=0.0, std=1.0),\n",
        "])"
      ],
      "metadata": {
        "id": "mY-wFo4uJ5By"
      },
      "execution_count": null,
      "outputs": []
    },
    {
      "cell_type": "code",
      "source": [
        "train_folder = '/content/train'\n",
        "train_images = []\n",
        "test_folder = '/content/test'\n",
        "test_images = []\n",
        "\n",
        "for image_file in os.listdir(train_folder):\n",
        "      img = load_img(os.path.join(train_folder, image_file))\n",
        "      img_array = img_to_array(img)\n",
        "      train_images.append(img_array)\n",
        "\n",
        "for image_file in os.listdir(test_folder):\n",
        "      img = load_img(os.path.join(test_folder, image_file))\n",
        "      img_array = img_to_array(img)\n",
        "      test_images.append(img_array)\n"
      ],
      "metadata": {
        "id": "Y8vpaw3mifLI"
      },
      "execution_count": null,
      "outputs": []
    },
    {
      "cell_type": "code",
      "source": [
        "train_images = np.array(train_images)\n",
        "test_images = np.array(test_images)"
      ],
      "metadata": {
        "id": "EFBaGMg-oK1u"
      },
      "execution_count": null,
      "outputs": []
    },
    {
      "cell_type": "code",
      "source": [
        "train_metadata = pd.read_csv('train.csv')"
      ],
      "metadata": {
        "id": "V4DTUqVfsuHK"
      },
      "execution_count": null,
      "outputs": []
    },
    {
      "cell_type": "code",
      "source": [
        "X_train_metadata = train_metadata.drop('stable_height', axis=1).values\n",
        "y_train = train_metadata['stable_height'].values"
      ],
      "metadata": {
        "id": "vqeggm62sLFG"
      },
      "execution_count": null,
      "outputs": []
    },
    {
      "cell_type": "code",
      "source": [
        "X_train_images, X_val_images, X_train_tabular, X_val_tabular, y_train, y_val = train_test_split(\n",
        "    train_images, X_train_metadata, y_train, test_size=0.2, random_state=42\n",
        ")"
      ],
      "metadata": {
        "id": "tVEA2WZvKu_r"
      },
      "execution_count": null,
      "outputs": []
    },
    {
      "cell_type": "code",
      "source": [
        "for img in X_train_images:\n",
        "  augmented = augmentation(image=img)\n",
        "  img = augmented['image']"
      ],
      "metadata": {
        "id": "-0e9epb0LQb5"
      },
      "execution_count": null,
      "outputs": []
    },
    {
      "cell_type": "code",
      "source": [
        "tabular_input = layers.Input(shape=(X_train_metadata.shape[1],))\n",
        "output1 = layers.Dense(64, activation='relu')(tabular_input)\n",
        "\n",
        "image_input = layers.Input(shape=(train_images.shape[1], train_images.shape[2], 3))\n",
        "vgg_model = VGG16(weights='imagenet', include_top=False, input_tensor=image_input)\n",
        "output2 = layers.Flatten()(vgg_model.output)\n",
        "output2 = layers.Dense(64, activation='relu')(output2)\n",
        "\n",
        "combined = layers.concatenate([output1, output2])\n",
        "output3 = layers.Dense(64, activation='relu')(combined)\n",
        "output = layers.Dense(1, activation='linear')(output3)"
      ],
      "metadata": {
        "id": "GxrKfNs3oaff",
        "colab": {
          "base_uri": "https://localhost:8080/"
        },
        "outputId": "d085ab27-e416-46d8-c316-ab7b897e5b86"
      },
      "execution_count": null,
      "outputs": [
        {
          "output_type": "stream",
          "name": "stdout",
          "text": [
            "Downloading data from https://storage.googleapis.com/tensorflow/keras-applications/vgg16/vgg16_weights_tf_dim_ordering_tf_kernels_notop.h5\n",
            "\u001b[1m58889256/58889256\u001b[0m \u001b[32m━━━━━━━━━━━━━━━━━━━━\u001b[0m\u001b[37m\u001b[0m \u001b[1m1s\u001b[0m 0us/step\n"
          ]
        }
      ]
    },
    {
      "cell_type": "code",
      "source": [
        "model = keras.Model(inputs=[image_input, tabular_input], outputs=output)\n",
        "model.compile(optimizer='adam', loss=keras.losses.MeanSquaredError(), metrics=['accuracy'])"
      ],
      "metadata": {
        "id": "LbW518ua6fXn"
      },
      "execution_count": null,
      "outputs": []
    },
    {
      "cell_type": "code",
      "source": [
        "model_history = model.fit([X_train_images, X_train_tabular], y_train,\n",
        "                          validation_data=([X_val_images, X_val_tabular], y_val),\n",
        "                          epochs=20, batch_size=100)"
      ],
      "metadata": {
        "id": "7FbLkplM65Wh"
      },
      "execution_count": null,
      "outputs": []
    },
    {
      "cell_type": "code",
      "source": [],
      "metadata": {
        "id": "aAYLYuUN7O-s"
      },
      "execution_count": null,
      "outputs": []
    }
  ]
}