{
 "cells": [
  {
   "cell_type": "code",
   "execution_count": 36,
   "metadata": {},
   "outputs": [],
   "source": [
    "import tensorflow as tf\n",
    "from tensorflow.keras.models import Sequential # type: ignore\n",
    "from tensorflow.keras.layers import Conv2D, MaxPooling2D, Flatten, Dense, Dropout, BatchNormalization # type: ignore\n",
    "from tensorflow.keras.optimizers import Adam # type: ignore\n",
    "from sklearn.model_selection import train_test_split\n",
    "from tensorflow.keras import layers, models, Input # type: ignore\n",
    "import numpy as np\n",
    "import pandas as pd\n",
    "import cv2\n",
    "import os\n",
    "from tensorflow.keras.models import Model\n",
    "from tensorflow.keras.layers import Conv2D, MaxPooling2D, Flatten, Dense, Dropout, BatchNormalization, Input, Concatenate\n",
    "from tensorflow.keras.optimizers import Adam"
   ]
  },
  {
   "cell_type": "code",
   "execution_count": 76,
   "metadata": {},
   "outputs": [],
   "source": [
    "# Load and preprocess the data\n",
    "def load_data(image_folder, metadata_path, num_samples=None):\n",
    "    # Load metadata\n",
    "    metadata = pd.read_csv(metadata_path)\n",
    "    \n",
    "    # If num_samples is provided, take the first 'num_samples' rows\n",
    "    if num_samples:\n",
    "        metadata = metadata.head(num_samples)\n",
    "    \n",
    "    images = []\n",
    "    missing_images = []\n",
    "    \n",
    "    for index, row in metadata.iterrows():\n",
    "        image_file = os.path.join(image_folder, str(row['id'])+'.jpg')  # Adjust 'id' column if necessary\n",
    "        image = cv2.imread(image_file)\n",
    "        \n",
    "        # Check if the image was loaded successfully\n",
    "        if image is not None:\n",
    "            image = cv2.resize(image, (128, 128))  # Resize to 128x128\n",
    "            images.append(image)\n",
    "        else:\n",
    "            missing_images.append(image_file)\n",
    "            print(f\"Warning: Image {image_file} could not be loaded.\")\n",
    "    \n",
    "    # Normalize pixel values to [0, 1]\n",
    "    images = np.array(images) / 255.0  \n",
    "    \n",
    "    return images, metadata"
   ]
  },
  {
   "cell_type": "code",
   "execution_count": 78,
   "metadata": {},
   "outputs": [
    {
     "name": "stdout",
     "output_type": "stream",
     "text": [
      "<class 'pandas.core.frame.DataFrame'>\n",
      "RangeIndex: 5000 entries, 0 to 4999\n",
      "Data columns (total 7 columns):\n",
      " #   Column            Non-Null Count  Dtype\n",
      "---  ------            --------------  -----\n",
      " 0   id                5000 non-null   int64\n",
      " 1   shapeset          5000 non-null   int64\n",
      " 2   type              5000 non-null   int64\n",
      " 3   total_height      5000 non-null   int64\n",
      " 4   instability_type  5000 non-null   int64\n",
      " 5   cam_angle         5000 non-null   int64\n",
      " 6   stable_height     5000 non-null   int64\n",
      "dtypes: int64(7)\n",
      "memory usage: 273.6 KB\n"
     ]
    }
   ],
   "source": [
    "# Load the data\n",
    "image_folder = './COMP90086_2024_Project_train/train'  \n",
    "metadata_path = './COMP90086_2024_Project_train/train.csv' \n",
    "images, metadata = load_data(image_folder, metadata_path, 5000)\n",
    "\n",
    "metadata.info()"
   ]
  },
  {
   "cell_type": "code",
   "execution_count": 50,
   "metadata": {},
   "outputs": [
    {
     "name": "stdout",
     "output_type": "stream",
     "text": [
      "<KerasTensor shape=(None, 5), dtype=float32, sparse=False, name=keras_tensor_179>\n"
     ]
    }
   ],
   "source": [
    "def create_cnn_model(input_shape):\n",
    "    cnn_input = Input(shape=input_shape)\n",
    "    \n",
    "    x = Conv2D(32, (3, 3), activation='relu')(cnn_input)\n",
    "    x = MaxPooling2D(pool_size=(2, 2))(x)\n",
    "    x = BatchNormalization()(x)\n",
    "    \n",
    "    x = Conv2D(64, (3, 3), activation='relu')(x)\n",
    "    x = MaxPooling2D(pool_size=(2, 2))(x)\n",
    "    x = BatchNormalization()(x)\n",
    "    \n",
    "    x = Conv2D(128, (3, 3), activation='relu')(x)\n",
    "    x = MaxPooling2D(pool_size=(2, 2))(x)\n",
    "    x = BatchNormalization()(x)\n",
    "    \n",
    "    x = Flatten()(x)\n",
    "    cnn_output = Dense(128, activation='relu')(x)\n",
    "    \n",
    "    return Model(inputs=cnn_input, outputs=cnn_output)\n",
    "\n",
    "# Define the neural network for metadata\n",
    "def create_metadata_model(input_shape):\n",
    "    metadata_input = Input(shape=input_shape)\n",
    "    print(metadata_input)\n",
    "    \n",
    "    y = Dense(64, activation='relu')(metadata_input)\n",
    "    y = Dropout(0.5)(y)\n",
    "    y = Dense(32, activation='relu')(y)\n",
    "    \n",
    "    return Model(inputs=metadata_input, outputs=y)\n",
    "\n",
    "# Combine CNN and metadata models\n",
    "def create_combined_model(image_shape, metadata_shape):\n",
    "    cnn_model = create_cnn_model(image_shape)\n",
    "    metadata_model = create_metadata_model(metadata_shape)\n",
    "    \n",
    "    # Concatenate the outputs of the CNN and metadata model\n",
    "    combined = Concatenate()([cnn_model.output, metadata_model.output])\n",
    "    \n",
    "    # Add some fully connected layers after the concatenation\n",
    "    z = Dense(128, activation='relu')(combined)\n",
    "    z = Dropout(0.5)(z)\n",
    "    z = Dense(64, activation='relu')(z)\n",
    "    \n",
    "    # Final output layer for predicting stable height\n",
    "    output = Dense(1, activation='linear')(z)\n",
    "    \n",
    "    # Create the complete model\n",
    "    model = Model(inputs=[cnn_model.input, metadata_model.input], outputs=output)\n",
    "    \n",
    "    return model\n",
    "\n",
    "# Create the model\n",
    "image_shape = (128, 128, 3)  \n",
    "metadata_shape = (5,)  \n",
    "\n",
    "model = create_combined_model(image_shape, metadata_shape)\n",
    "\n",
    "# Compile the model\n",
    "model.compile(optimizer=Adam(learning_rate=0.001), loss='mean_squared_error', metrics=['mae'])"
   ]
  },
  {
   "cell_type": "code",
   "execution_count": 53,
   "metadata": {},
   "outputs": [],
   "source": [
    "X_train_images = images  # Preprocessed image data\n",
    "X_train_metadata = metadata[[\"shapeset\",\"type\",\"total_height\",\"instability_type\",\"cam_angle\"]]  # Select relevant metadata columns\n",
    "\n",
    "y_train = metadata['stable_height']  # Target variable (stable height)\n",
    "\n",
    "metadata_input = layers.Input(shape=(5,)) "
   ]
  },
  {
   "cell_type": "code",
   "execution_count": 54,
   "metadata": {},
   "outputs": [
    {
     "name": "stdout",
     "output_type": "stream",
     "text": [
      "Epoch 1/20\n"
     ]
    },
    {
     "ename": "ValueError",
     "evalue": "Creating variables on a non-first call to a function decorated with tf.function.",
     "output_type": "error",
     "traceback": [
      "\u001b[1;31m---------------------------------------------------------------------------\u001b[0m",
      "\u001b[1;31mValueError\u001b[0m                                Traceback (most recent call last)",
      "Cell \u001b[1;32mIn[54], line 1\u001b[0m\n\u001b[1;32m----> 1\u001b[0m model\u001b[38;5;241m.\u001b[39mfit([X_train_images, X_train_metadata], y_train, epochs\u001b[38;5;241m=\u001b[39m\u001b[38;5;241m20\u001b[39m, batch_size\u001b[38;5;241m=\u001b[39m\u001b[38;5;241m32\u001b[39m, validation_split\u001b[38;5;241m=\u001b[39m\u001b[38;5;241m0.2\u001b[39m)\n",
      "File \u001b[1;32md:\\Anaconda\\Lib\\site-packages\\keras\\src\\utils\\traceback_utils.py:122\u001b[0m, in \u001b[0;36mfilter_traceback.<locals>.error_handler\u001b[1;34m(*args, **kwargs)\u001b[0m\n\u001b[0;32m    119\u001b[0m     filtered_tb \u001b[38;5;241m=\u001b[39m _process_traceback_frames(e\u001b[38;5;241m.\u001b[39m__traceback__)\n\u001b[0;32m    120\u001b[0m     \u001b[38;5;66;03m# To get the full stack trace, call:\u001b[39;00m\n\u001b[0;32m    121\u001b[0m     \u001b[38;5;66;03m# `keras.config.disable_traceback_filtering()`\u001b[39;00m\n\u001b[1;32m--> 122\u001b[0m     \u001b[38;5;28;01mraise\u001b[39;00m e\u001b[38;5;241m.\u001b[39mwith_traceback(filtered_tb) \u001b[38;5;28;01mfrom\u001b[39;00m \u001b[38;5;28;01mNone\u001b[39;00m\n\u001b[0;32m    123\u001b[0m \u001b[38;5;28;01mfinally\u001b[39;00m:\n\u001b[0;32m    124\u001b[0m     \u001b[38;5;28;01mdel\u001b[39;00m filtered_tb\n",
      "File \u001b[1;32md:\\Anaconda\\Lib\\site-packages\\keras\\src\\backend\\tensorflow\\trainer.py:121\u001b[0m, in \u001b[0;36mTensorFlowTrainer.make_train_function.<locals>.one_step_on_iterator\u001b[1;34m(iterator)\u001b[0m\n\u001b[0;32m    119\u001b[0m \u001b[38;5;250m\u001b[39m\u001b[38;5;124;03m\"\"\"Runs a single training step given a Dataset iterator.\"\"\"\u001b[39;00m\n\u001b[0;32m    120\u001b[0m data \u001b[38;5;241m=\u001b[39m \u001b[38;5;28mnext\u001b[39m(iterator)\n\u001b[1;32m--> 121\u001b[0m outputs \u001b[38;5;241m=\u001b[39m \u001b[38;5;28mself\u001b[39m\u001b[38;5;241m.\u001b[39mdistribute_strategy\u001b[38;5;241m.\u001b[39mrun(\n\u001b[0;32m    122\u001b[0m     one_step_on_data, args\u001b[38;5;241m=\u001b[39m(data,)\n\u001b[0;32m    123\u001b[0m )\n\u001b[0;32m    124\u001b[0m outputs \u001b[38;5;241m=\u001b[39m reduce_per_replica(\n\u001b[0;32m    125\u001b[0m     outputs,\n\u001b[0;32m    126\u001b[0m     \u001b[38;5;28mself\u001b[39m\u001b[38;5;241m.\u001b[39mdistribute_strategy,\n\u001b[0;32m    127\u001b[0m     reduction\u001b[38;5;241m=\u001b[39m\u001b[38;5;124m\"\u001b[39m\u001b[38;5;124mauto\u001b[39m\u001b[38;5;124m\"\u001b[39m,\n\u001b[0;32m    128\u001b[0m )\n\u001b[0;32m    129\u001b[0m \u001b[38;5;28;01mreturn\u001b[39;00m outputs\n",
      "\u001b[1;31mValueError\u001b[0m: Creating variables on a non-first call to a function decorated with tf.function."
     ]
    }
   ],
   "source": [
    "model.fit([X_train_images, X_train_metadata], y_train, epochs=20, batch_size=32, validation_split=0.2)"
   ]
  },
  {
   "cell_type": "code",
   "execution_count": 79,
   "metadata": {},
   "outputs": [],
   "source": [
    "from tensorflow.keras.losses import MeanSquaredError\n",
    "from tensorflow.keras.metrics import MeanAbsoluteError\n",
    "from tensorflow.keras.preprocessing.image import load_img, img_to_array\n",
    "from matplotlib import pyplot as plt"
   ]
  },
  {
   "cell_type": "code",
   "execution_count": 80,
   "metadata": {},
   "outputs": [],
   "source": [
    "train_metadata, val_metadata = train_test_split(metadata, test_size=0.2, random_state=42, stratify=metadata['stable_height'])\n",
    "\n",
    "image_size = (64, 64)\n",
    "batch_size = 32\n",
    "\n",
    "def load_and_preprocess_image(filepath):\n",
    "    image = load_img(filepath, target_size=image_size)\n",
    "    image = img_to_array(image) / 255.0  # Normalize pixel values\n",
    "    return image\n",
    "\n",
    "train_images = np.array([load_and_preprocess_image(os.path.join(image_folder, str(fname)+'.jpg')) for fname in train_metadata['id']])\n",
    "train_labels = train_metadata['stable_height'].values \n",
    "\n",
    "# Load images for validation\n",
    "val_images = np.array([load_and_preprocess_image(os.path.join(image_folder, str(fname)+'.jpg')) for fname in val_metadata['id']])\n",
    "val_labels = val_metadata['stable_height'].values  \n",
    "\n",
    "train_features = train_metadata[[\"shapeset\",\"type\",\"total_height\",\"instability_type\",\"cam_angle\"]].values\n",
    "val_features = val_metadata[[\"shapeset\",\"type\",\"total_height\",\"instability_type\",\"cam_angle\"]].values"
   ]
  },
  {
   "cell_type": "code",
   "execution_count": 82,
   "metadata": {},
   "outputs": [],
   "source": [
    "# Define CNN model for image input\n",
    "image_input = Input(shape=(image_size[0], image_size[1], 3))\n",
    "x = Conv2D(32, (3, 3), activation='relu')(image_input)\n",
    "x = MaxPooling2D(pool_size=(2, 2))(x)\n",
    "x = Conv2D(64, (3, 3), activation='relu')(x)\n",
    "x = MaxPooling2D(pool_size=(2, 2))(x)\n",
    "x = Flatten()(x)"
   ]
  },
  {
   "cell_type": "code",
   "execution_count": 83,
   "metadata": {},
   "outputs": [],
   "source": [
    "# Define input for metadata\n",
    "metadata_input = Input(shape=(train_features.shape[1],))\n",
    "y = Dense(32, activation='relu')(metadata_input)"
   ]
  },
  {
   "cell_type": "code",
   "execution_count": 84,
   "metadata": {},
   "outputs": [],
   "source": [
    "# Combine both inputs\n",
    "combined = Concatenate()([x, y])\n",
    "z = Dense(128, activation='relu')(combined)\n",
    "z = Dropout(0.5)(z)\n",
    "z = Dense(1, activation='linear')(z)  # Output layer for regression"
   ]
  },
  {
   "cell_type": "code",
   "execution_count": 85,
   "metadata": {},
   "outputs": [
    {
     "name": "stdout",
     "output_type": "stream",
     "text": [
      "Epoch 1/20\n",
      "\u001b[1m125/125\u001b[0m \u001b[32m━━━━━━━━━━━━━━━━━━━━\u001b[0m\u001b[37m\u001b[0m \u001b[1m8s\u001b[0m 44ms/step - loss: 2.9664 - mean_absolute_error: 1.3576 - val_loss: 1.4477 - val_mean_absolute_error: 0.9841\n",
      "Epoch 2/20\n",
      "\u001b[1m125/125\u001b[0m \u001b[32m━━━━━━━━━━━━━━━━━━━━\u001b[0m\u001b[37m\u001b[0m \u001b[1m5s\u001b[0m 40ms/step - loss: 1.5215 - mean_absolute_error: 0.9765 - val_loss: 1.0500 - val_mean_absolute_error: 0.8315\n",
      "Epoch 3/20\n",
      "\u001b[1m125/125\u001b[0m \u001b[32m━━━━━━━━━━━━━━━━━━━━\u001b[0m\u001b[37m\u001b[0m \u001b[1m5s\u001b[0m 39ms/step - loss: 1.4095 - mean_absolute_error: 0.9389 - val_loss: 1.0144 - val_mean_absolute_error: 0.8139\n",
      "Epoch 4/20\n",
      "\u001b[1m125/125\u001b[0m \u001b[32m━━━━━━━━━━━━━━━━━━━━\u001b[0m\u001b[37m\u001b[0m \u001b[1m5s\u001b[0m 39ms/step - loss: 1.2730 - mean_absolute_error: 0.8841 - val_loss: 0.9215 - val_mean_absolute_error: 0.7563\n",
      "Epoch 5/20\n",
      "\u001b[1m125/125\u001b[0m \u001b[32m━━━━━━━━━━━━━━━━━━━━\u001b[0m\u001b[37m\u001b[0m \u001b[1m5s\u001b[0m 39ms/step - loss: 1.1901 - mean_absolute_error: 0.8506 - val_loss: 0.9151 - val_mean_absolute_error: 0.7583\n",
      "Epoch 6/20\n",
      "\u001b[1m125/125\u001b[0m \u001b[32m━━━━━━━━━━━━━━━━━━━━\u001b[0m\u001b[37m\u001b[0m \u001b[1m5s\u001b[0m 39ms/step - loss: 1.1711 - mean_absolute_error: 0.8512 - val_loss: 0.8793 - val_mean_absolute_error: 0.7176\n",
      "Epoch 7/20\n",
      "\u001b[1m125/125\u001b[0m \u001b[32m━━━━━━━━━━━━━━━━━━━━\u001b[0m\u001b[37m\u001b[0m \u001b[1m5s\u001b[0m 39ms/step - loss: 0.9890 - mean_absolute_error: 0.7700 - val_loss: 0.8952 - val_mean_absolute_error: 0.7461\n",
      "Epoch 8/20\n",
      "\u001b[1m125/125\u001b[0m \u001b[32m━━━━━━━━━━━━━━━━━━━━\u001b[0m\u001b[37m\u001b[0m \u001b[1m5s\u001b[0m 39ms/step - loss: 0.9637 - mean_absolute_error: 0.7709 - val_loss: 0.9855 - val_mean_absolute_error: 0.7853\n",
      "Epoch 9/20\n",
      "\u001b[1m125/125\u001b[0m \u001b[32m━━━━━━━━━━━━━━━━━━━━\u001b[0m\u001b[37m\u001b[0m \u001b[1m5s\u001b[0m 38ms/step - loss: 0.8857 - mean_absolute_error: 0.7363 - val_loss: 0.9107 - val_mean_absolute_error: 0.7366\n",
      "Epoch 10/20\n",
      "\u001b[1m125/125\u001b[0m \u001b[32m━━━━━━━━━━━━━━━━━━━━\u001b[0m\u001b[37m\u001b[0m \u001b[1m5s\u001b[0m 40ms/step - loss: 0.8734 - mean_absolute_error: 0.7305 - val_loss: 0.9705 - val_mean_absolute_error: 0.7626\n",
      "Epoch 11/20\n",
      "\u001b[1m125/125\u001b[0m \u001b[32m━━━━━━━━━━━━━━━━━━━━\u001b[0m\u001b[37m\u001b[0m \u001b[1m5s\u001b[0m 40ms/step - loss: 0.7663 - mean_absolute_error: 0.6863 - val_loss: 0.9623 - val_mean_absolute_error: 0.7579\n",
      "Epoch 12/20\n",
      "\u001b[1m125/125\u001b[0m \u001b[32m━━━━━━━━━━━━━━━━━━━━\u001b[0m\u001b[37m\u001b[0m \u001b[1m5s\u001b[0m 40ms/step - loss: 0.7371 - mean_absolute_error: 0.6736 - val_loss: 0.9823 - val_mean_absolute_error: 0.7625\n",
      "Epoch 13/20\n",
      "\u001b[1m125/125\u001b[0m \u001b[32m━━━━━━━━━━━━━━━━━━━━\u001b[0m\u001b[37m\u001b[0m \u001b[1m5s\u001b[0m 38ms/step - loss: 0.6468 - mean_absolute_error: 0.6295 - val_loss: 1.0863 - val_mean_absolute_error: 0.8136\n",
      "Epoch 14/20\n",
      "\u001b[1m125/125\u001b[0m \u001b[32m━━━━━━━━━━━━━━━━━━━━\u001b[0m\u001b[37m\u001b[0m \u001b[1m5s\u001b[0m 38ms/step - loss: 0.6494 - mean_absolute_error: 0.6313 - val_loss: 0.9975 - val_mean_absolute_error: 0.7658\n",
      "Epoch 15/20\n",
      "\u001b[1m125/125\u001b[0m \u001b[32m━━━━━━━━━━━━━━━━━━━━\u001b[0m\u001b[37m\u001b[0m \u001b[1m5s\u001b[0m 39ms/step - loss: 0.5552 - mean_absolute_error: 0.5911 - val_loss: 1.0518 - val_mean_absolute_error: 0.7895\n",
      "Epoch 16/20\n",
      "\u001b[1m125/125\u001b[0m \u001b[32m━━━━━━━━━━━━━━━━━━━━\u001b[0m\u001b[37m\u001b[0m \u001b[1m5s\u001b[0m 41ms/step - loss: 0.5060 - mean_absolute_error: 0.5561 - val_loss: 1.0516 - val_mean_absolute_error: 0.7947\n",
      "Epoch 17/20\n",
      "\u001b[1m125/125\u001b[0m \u001b[32m━━━━━━━━━━━━━━━━━━━━\u001b[0m\u001b[37m\u001b[0m \u001b[1m5s\u001b[0m 40ms/step - loss: 0.4944 - mean_absolute_error: 0.5445 - val_loss: 1.0517 - val_mean_absolute_error: 0.7904\n",
      "Epoch 18/20\n",
      "\u001b[1m125/125\u001b[0m \u001b[32m━━━━━━━━━━━━━━━━━━━━\u001b[0m\u001b[37m\u001b[0m \u001b[1m5s\u001b[0m 39ms/step - loss: 0.4842 - mean_absolute_error: 0.5378 - val_loss: 1.0880 - val_mean_absolute_error: 0.7976\n",
      "Epoch 19/20\n",
      "\u001b[1m125/125\u001b[0m \u001b[32m━━━━━━━━━━━━━━━━━━━━\u001b[0m\u001b[37m\u001b[0m \u001b[1m5s\u001b[0m 38ms/step - loss: 0.4510 - mean_absolute_error: 0.5217 - val_loss: 1.0576 - val_mean_absolute_error: 0.7921\n",
      "Epoch 20/20\n",
      "\u001b[1m125/125\u001b[0m \u001b[32m━━━━━━━━━━━━━━━━━━━━\u001b[0m\u001b[37m\u001b[0m \u001b[1m5s\u001b[0m 38ms/step - loss: 0.4056 - mean_absolute_error: 0.4892 - val_loss: 1.1091 - val_mean_absolute_error: 0.8144\n"
     ]
    }
   ],
   "source": [
    "# Create the model\n",
    "model = Model(inputs=[image_input, metadata_input], outputs=z)\n",
    "\n",
    "# Compile the model\n",
    "model.compile(optimizer=Adam(), loss=MeanSquaredError(), metrics=[MeanAbsoluteError()])\n",
    "\n",
    "# Train the model\n",
    "history = model.fit(\n",
    "    [train_images, train_features],\n",
    "    train_labels,\n",
    "    validation_data=([val_images, val_features], val_labels),\n",
    "    epochs=20,\n",
    "    batch_size=batch_size\n",
    ")\n"
   ]
  },
  {
   "cell_type": "code",
   "execution_count": 86,
   "metadata": {},
   "outputs": [
    {
     "data": {
      "image/png": "[encoded data removed]",
      "text/plain": [
       "<Figure size 1200x400 with 2 Axes>"
      ]
     },
     "metadata": {},
     "output_type": "display_data"
    },
    {
     "name": "stderr",
     "output_type": "stream",
     "text": [
      "WARNING:absl:You are saving your model as an HDF5 file via `model.save()` or `keras.saving.save_model(model)`. This file format is considered legacy. We recommend using instead the native Keras format, e.g. `model.save('my_model.keras')` or `keras.saving.save_model(model, 'my_model.keras')`. \n"
     ]
    }
   ],
   "source": [
    "# Plot training & validation accuracy and loss (optional)\n",
    "def plot_history(history):\n",
    "    plt.figure(figsize=(12, 4))\n",
    "\n",
    "    plt.subplot(1, 2, 1)\n",
    "    plt.plot(history.history['mean_absolute_error'], label='Train MAE')\n",
    "    plt.plot(history.history['val_mean_absolute_error'], label='Validation MAE')\n",
    "    plt.title('Model Mean Absolute Error')\n",
    "    plt.ylabel('MAE')\n",
    "    plt.xlabel('Epoch')\n",
    "    plt.legend()\n",
    "\n",
    "    plt.subplot(1, 2, 2)\n",
    "    plt.plot(history.history['loss'], label='Train Loss')\n",
    "    plt.plot(history.history['val_loss'], label='Validation Loss')\n",
    "    plt.title('Model Loss')\n",
    "    plt.ylabel('Loss')\n",
    "    plt.xlabel('Epoch')\n",
    "    plt.legend()\n",
    "\n",
    "    plt.show()\n",
    "\n",
    "plot_history(history)\n",
    "\n",
    "# Save the model\n",
    "model.save('cnn_with_metadata_model.h5')"
   ]
  },
  {
   "cell_type": "code",
   "execution_count": 75,
   "metadata": {},
   "outputs": [
    {
     "name": "stdout",
     "output_type": "stream",
     "text": [
      "\u001b[1m1/1\u001b[0m \u001b[32m━━━━━━━━━━━━━━━━━━━━\u001b[0m\u001b[37m\u001b[0m \u001b[1m0s\u001b[0m 382ms/step\n",
      "Predicted Value: 3.1463022232055664\n"
     ]
    }
   ],
   "source": [
    "import numpy as np\n",
    "from tensorflow.keras.preprocessing.image import load_img, img_to_array # type: ignore\n",
    "\n",
    "# Define function to load and preprocess a single image\n",
    "def load_and_preprocess_single_image(filepath):\n",
    "    image = load_img(filepath, target_size=(64, 64))  # Ensure the size matches the training images\n",
    "    image = img_to_array(image) / 255.0  # Normalize pixel values\n",
    "    return image\n",
    "\n",
    "# Path to the image you want to test\n",
    "test_image_path = './COMP90086_2024_Project_test/test/33287.jpg'\n",
    "\n",
    "# Load and preprocess the test image\n",
    "test_image = load_and_preprocess_single_image(test_image_path)\n",
    "\n",
    "# Prepare the corresponding metadata for the test image\n",
    "# Ensure the metadata matches the feature columns used in training\n",
    "test_metadata = np.array([[2,1,6,2,1]])  # Replace with actual feature values\n",
    "\n",
    "# Expand dimensions to match the input shape (1, height, width, channels)\n",
    "test_image = np.expand_dims(test_image, axis=0)\n",
    "\n",
    "# Make a prediction\n",
    "predicted_value = model.predict([test_image, test_metadata])\n",
    "\n",
    "# Print the prediction result\n",
    "print(f'Predicted Value: {predicted_value[0][0]}')  # Assuming a single numerical output\n"
   ]
  }
 ],
 "metadata": {
  "kernelspec": {
   "display_name": "base",
   "language": "python",
   "name": "python3"
  },
  "language_info": {
   "codemirror_mode": {
    "name": "ipython",
    "version": 3
   },
   "file_extension": ".py",
   "mimetype": "text/x-python",
   "name": "python",
   "nbconvert_exporter": "python",
   "pygments_lexer": "ipython3",
   "version": "3.12.4"
  }
 },
 "nbformat": 4,
 "nbformat_minor": 2
}
